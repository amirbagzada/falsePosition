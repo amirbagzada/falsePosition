{
  "nbformat": 4,
  "nbformat_minor": 0,
  "metadata": {
    "colab": {
      "provenance": [],
      "authorship_tag": "ABX9TyN8Or6BpzLt58jtMoikJUTq",
      "include_colab_link": true
    },
    "kernelspec": {
      "name": "python3",
      "display_name": "Python 3"
    },
    "language_info": {
      "name": "python"
    }
  },
  "cells": [
    {
      "cell_type": "markdown",
      "metadata": {
        "id": "view-in-github",
        "colab_type": "text"
      },
      "source": [
        "<a href=\"https://colab.research.google.com/github/amirbagzada/falsePosition/blob/main/falsePosition1.ipynb\" target=\"_parent\"><img src=\"https://colab.research.google.com/assets/colab-badge.svg\" alt=\"Open In Colab\"/></a>"
      ]
    },
    {
      "cell_type": "code",
      "execution_count": null,
      "metadata": {
        "colab": {
          "base_uri": "https://localhost:8080/"
        },
        "id": "MdvA5qR8huMH",
        "outputId": "cc36711f-f0d1-4626-d3c7-7d4de1680b4e"
      },
      "outputs": [
        {
          "output_type": "stream",
          "name": "stdout",
          "text": [
            "Root (approx.): 1.5213797068045676\n",
            "Iterations: 100\n"
          ]
        }
      ],
      "source": [
        "def false_position_method(func, a, b, tol=1e-6, max_iter=100):\n",
        "    if func(a) * func(b) > 0:\n",
        "        raise ValueError(\"Incorrect interval: the function must have opposite signs at the endpoints.\")\n",
        "\n",
        "    iterations = 0\n",
        "    while abs(b - a) > tol and iterations < max_iter:\n",
        "        c = a - func(a) * (b - a) / (func(b) - func(a))\n",
        "        if func(c) * func(a) < 0:\n",
        "            b = c\n",
        "        else:\n",
        "            a = c\n",
        "\n",
        "        iterations += 1\n",
        "\n",
        "    return c, iterations\n",
        "\n",
        "# Example:\n",
        "def example_function(x):\n",
        "    return x**3 - x - 2\n",
        "\n",
        "initial_a = 1\n",
        "initial_b = 2\n",
        "\n",
        "root, num_iterations = false_position_method(example_function, initial_a, initial_b)\n",
        "\n",
        "print(\"Root (approx.):\", root)\n",
        "print(\"Iterations:\", num_iterations)\n"
      ]
    }
  ]
}